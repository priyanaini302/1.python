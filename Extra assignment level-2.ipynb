{
 "cells": [
  {
   "cell_type": "code",
   "execution_count": 1,
   "metadata": {},
   "outputs": [
    {
     "name": "stdout",
     "output_type": "stream",
     "text": [
      "0\n",
      "1\n",
      "2\n",
      "3\n",
      "4\n",
      "5\n",
      "6\n",
      "7\n",
      "8\n",
      "9\n",
      "10\n",
      "11\n",
      "12\n",
      "13\n",
      "14\n",
      "15\n",
      "16\n",
      "17\n",
      "18\n",
      "19\n"
     ]
    }
   ],
   "source": [
    "for temp in range(0,20):\n",
    "    print(temp)"
   ]
  },
  {
   "cell_type": "code",
   "execution_count": 2,
   "metadata": {},
   "outputs": [
    {
     "name": "stdout",
     "output_type": "stream",
     "text": [
      "10 11 12 13 14 15 16 17 18 19 "
     ]
    }
   ],
   "source": [
    "for temp in range(10,20):\n",
    "    print(temp,end=' ')"
   ]
  },
  {
   "cell_type": "code",
   "execution_count": 3,
   "metadata": {},
   "outputs": [
    {
     "name": "stdout",
     "output_type": "stream",
     "text": [
      "[10, 20, 14, 55, 43, 87, 76]\n",
      "Number of item in the List2: 7\n"
     ]
    }
   ],
   "source": [
    "length=len([10, 20, 14, 55, 43, 87, 76])\n",
    "print(\"[10, 20, 14, 55, 43, 87, 76]\")\n",
    "print(\"Number of item in the List2:\",length)"
   ]
  },
  {
   "cell_type": "code",
   "execution_count": 4,
   "metadata": {},
   "outputs": [
    {
     "name": "stdout",
     "output_type": "stream",
     "text": [
      "Artificial Intelligence\n",
      "A\n",
      "r\n",
      "t\n",
      "i\n",
      "f\n",
      "i\n",
      "c\n",
      "i\n",
      "a\n",
      "l\n",
      " \n",
      "I\n",
      "n\n",
      "t\n",
      "e\n",
      "l\n",
      "l\n",
      "i\n",
      "g\n",
      "e\n",
      "n\n",
      "c\n",
      "e\n"
     ]
    }
   ],
   "source": [
    "name=\"Artificial Intelligence\"\n",
    "print(name)\n",
    "for temp in range(0,len(name)):\n",
    "    print(name[temp])    "
   ]
  },
  {
   "cell_type": "code",
   "execution_count": 5,
   "metadata": {},
   "outputs": [
    {
     "name": "stdout",
     "output_type": "stream",
     "text": [
      "-Your Name-,-Your Age-,-Your Profession-\n",
      "-Your Name-,-Your Age-,-Your Profession-\n",
      "-Your Name-,-Your Age-,-Your Profession-\n",
      "-Your Name-,-Your Age-,-Your Profession-\n",
      "-Your Name-,-Your Age-,-Your Profession-\n",
      "-Your Name-,-Your Age-,-Your Profession-\n",
      "-Your Name-,-Your Age-,-Your Profession-\n",
      "-Your Name-,-Your Age-,-Your Profession-\n",
      "-Your Name-,-Your Age-,-Your Profession-\n",
      "-Your Name-,-Your Age-,-Your Profession-\n",
      "-Your Name-,-Your Age-,-Your Profession-\n",
      "-Your Name-,-Your Age-,-Your Profession-\n",
      "-Your Name-,-Your Age-,-Your Profession-\n",
      "-Your Name-,-Your Age-,-Your Profession-\n",
      "-Your Name-,-Your Age-,-Your Profession-\n",
      "-Your Name-,-Your Age-,-Your Profession-\n",
      "-Your Name-,-Your Age-,-Your Profession-\n",
      "-Your Name-,-Your Age-,-Your Profession-\n",
      "-Your Name-,-Your Age-,-Your Profession-\n",
      "-Your Name-,-Your Age-,-Your Profession-\n",
      "-Your Name-,-Your Age-,-Your Profession-\n",
      "-Your Name-,-Your Age-,-Your Profession-\n",
      "-Your Name-,-Your Age-,-Your Profession-\n",
      "-Your Name-,-Your Age-,-Your Profession-\n",
      "-Your Name-,-Your Age-,-Your Profession-\n",
      "-Your Name-,-Your Age-,-Your Profession-\n",
      "-Your Name-,-Your Age-,-Your Profession-\n",
      "-Your Name-,-Your Age-,-Your Profession-\n",
      "-Your Name-,-Your Age-,-Your Profession-\n",
      "-Your Name-,-Your Age-,-Your Profession-\n",
      "-Your Name-,-Your Age-,-Your Profession-\n",
      "-Your Name-,-Your Age-,-Your Profession-\n",
      "-Your Name-,-Your Age-,-Your Profession-\n",
      "-Your Name-,-Your Age-,-Your Profession-\n",
      "-Your Name-,-Your Age-,-Your Profession-\n",
      "-Your Name-,-Your Age-,-Your Profession-\n",
      "-Your Name-,-Your Age-,-Your Profession-\n",
      "-Your Name-,-Your Age-,-Your Profession-\n",
      "-Your Name-,-Your Age-,-Your Profession-\n",
      "-Your Name-,-Your Age-,-Your Profession-\n"
     ]
    }
   ],
   "source": [
    "name=\"-Your Name-,-Your Age-,-Your Profession-\"\n",
    "for temp in name:\n",
    "    print(name)\n",
    "   \n"
   ]
  },
  {
   "cell_type": "code",
   "execution_count": 6,
   "metadata": {},
   "outputs": [
    {
     "name": "stdout",
     "output_type": "stream",
     "text": [
      "(1, 'Welcome', 72, 'Hope')\n"
     ]
    }
   ],
   "source": [
    "Tuple1 = (1, 'Welcome', 72, 'Hope')\n",
    "print(Tuple1)"
   ]
  },
  {
   "cell_type": "code",
   "execution_count": 7,
   "metadata": {},
   "outputs": [
    {
     "name": "stdout",
     "output_type": "stream",
     "text": [
      "((0, 1, 2, 3), ('python', 'HOPE'))\n"
     ]
    }
   ],
   "source": [
    "Tuple1=(0, 1, 2, 3)\n",
    "Tuple2= ('python', 'HOPE')\n",
    "Tuple3=(Tuple1,Tuple2)\n",
    "print(Tuple3)"
   ]
  },
  {
   "cell_type": "code",
   "execution_count": 8,
   "metadata": {},
   "outputs": [
    {
     "name": "stdout",
     "output_type": "stream",
     "text": [
      "(20, 10, 16, 19, 25, 1, 276, 188)\n",
      "19 is odd\n",
      "25 is odd\n",
      "1 is odd\n"
     ]
    }
   ],
   "source": [
    "lists=(20,10,16,19,25,1,276,188)\n",
    "print(lists)\n",
    "for num in lists:\n",
    "    if ((num % 2) ==1 ):\n",
    "        print(num,\"is odd\")"
   ]
  },
  {
   "cell_type": "code",
   "execution_count": 9,
   "metadata": {},
   "outputs": [
    {
     "name": "stdout",
     "output_type": "stream",
     "text": [
      "(20, 10, 16, 19, 25, 1, 276, 188)\n",
      "20 is Even\n",
      "10 is Even\n",
      "16 is Even\n",
      "276 is Even\n",
      "188 is Even\n"
     ]
    }
   ],
   "source": [
    "lists=(20,10,16,19,25,1,276,188)\n",
    "print(lists)\n",
    "for num in lists:\n",
    "    if num % 2 ==0:\n",
    "        print(num,\"is Even\")"
   ]
  },
  {
   "cell_type": "code",
   "execution_count": null,
   "metadata": {},
   "outputs": [],
   "source": []
  }
 ],
 "metadata": {
  "kernelspec": {
   "display_name": "Python 3",
   "language": "python",
   "name": "python3"
  },
  "language_info": {
   "codemirror_mode": {
    "name": "ipython",
    "version": 3
   },
   "file_extension": ".py",
   "mimetype": "text/x-python",
   "name": "python",
   "nbconvert_exporter": "python",
   "pygments_lexer": "ipython3",
   "version": "3.7.4"
  }
 },
 "nbformat": 4,
 "nbformat_minor": 2
}
