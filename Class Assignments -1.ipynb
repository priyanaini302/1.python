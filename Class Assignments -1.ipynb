{
 "cells": [
  {
   "cell_type": "code",
   "execution_count": 1,
   "metadata": {},
   "outputs": [],
   "source": [
    "class SubfieldsInAI():\n",
    "    def Subfields():\n",
    "        subfeilds=[\"Machine Learning\",\"Neural Networks\",\"Vision\",\"Robotics\",\"Speech Processing\",\"Natural Language Processing\"]\n",
    "        print(\"Sub-fields in AI are:\")\n",
    "        for temp in subfeilds:\n",
    "            print(temp)"
   ]
  },
  {
   "cell_type": "code",
   "execution_count": 2,
   "metadata": {},
   "outputs": [
    {
     "name": "stdout",
     "output_type": "stream",
     "text": [
      "Sub-fields in AI are:\n",
      "Machine Learning\n",
      "Neural Networks\n",
      "Vision\n",
      "Robotics\n",
      "Speech Processing\n",
      "Natural Language Processing\n"
     ]
    }
   ],
   "source": [
    "SubfieldsInAI.Subfields()\n"
   ]
  },
  {
   "cell_type": "code",
   "execution_count": 3,
   "metadata": {},
   "outputs": [],
   "source": [
    "class OddEven():\n",
    "    def oddeven():\n",
    "        num=int(input(\"Enter the Number:\"))\n",
    "        if num%2==0:\n",
    "            print(\"number is even\")\n",
    "            message='Even Number'\n",
    "        else:\n",
    "            print(\"number is odd\")\n",
    "            message='Odd Number'"
   ]
  },
  {
   "cell_type": "code",
   "execution_count": 5,
   "metadata": {},
   "outputs": [
    {
     "name": "stdout",
     "output_type": "stream",
     "text": [
      "Enter the Number:52452\n",
      "number is even\n"
     ]
    }
   ],
   "source": [
    "OddEven.oddeven()"
   ]
  },
  {
   "cell_type": "code",
   "execution_count": 6,
   "metadata": {},
   "outputs": [],
   "source": [
    "class ElegiblityForMarriage():\n",
    "    def mrgeligible():\n",
    "        gender=input(\"your Gender:\")\n",
    "        age=int(input(\"your age:\"))\n",
    "        if gender=='female':\n",
    "            if age<18:\n",
    "                print(\"Not eligible\")\n",
    "            else:\n",
    "                print(\"eligible\")\n",
    "        else:\n",
    "            if age<21:\n",
    "                print(\"Not eligible\")\n",
    "            else:\n",
    "                print(\"eligible\")"
   ]
  },
  {
   "cell_type": "code",
   "execution_count": 7,
   "metadata": {},
   "outputs": [
    {
     "name": "stdout",
     "output_type": "stream",
     "text": [
      "your Gender:male\n",
      "your age:20\n",
      "Not eligible\n"
     ]
    }
   ],
   "source": [
    "ElegiblityForMarriage.mrgeligible()"
   ]
  },
  {
   "cell_type": "code",
   "execution_count": 9,
   "metadata": {},
   "outputs": [],
   "source": [
    "class FindPercent():\n",
    "    def percentage():\n",
    "        sub1=int(input(\"Subject1:\"))\n",
    "        sub2=int(input(\"Subject2:\"))\n",
    "        sub3=int(input(\"Subject3:\"))\n",
    "        sub4=int(input(\"Subject4:\"))\n",
    "        sub5=int(input(\"Subject5:\"))\n",
    "        total=(sub1+sub2+sub3+sub4+sub5)\n",
    "        print(\"total:\",total)\n",
    "        percentage=total/5\n",
    "        print(\"percentage:\",percentage)"
   ]
  },
  {
   "cell_type": "code",
   "execution_count": 10,
   "metadata": {},
   "outputs": [
    {
     "name": "stdout",
     "output_type": "stream",
     "text": [
      "Subject1:98\n",
      "Subject2:87\n",
      "Subject3:95\n",
      "Subject4:95\n",
      "Subject5:93\n",
      "total: 468\n",
      "percentage: 93.6\n"
     ]
    }
   ],
   "source": [
    "FindPercent.percentage()"
   ]
  },
  {
   "cell_type": "code",
   "execution_count": 14,
   "metadata": {},
   "outputs": [],
   "source": [
    "class triangle():\n",
    "    def triangle():\n",
    "        Height=int(input('Height:'))\n",
    "        Breadth=int(input('breadth:'))\n",
    "        Areaformula=(Height*Breadth)/2\n",
    "        print('Area of Triangle:',Areaformula)\n",
    "        height1=int(input('Height1:'))\n",
    "        height2=int(input('Height2:'))\n",
    "        Breadth=int(input('breadth:'))\n",
    "        perimeterformula=height1+height2+Breadth\n",
    "        print(\"Perimeter of Triangle:\", perimeterformula)"
   ]
  },
  {
   "cell_type": "code",
   "execution_count": 16,
   "metadata": {},
   "outputs": [
    {
     "name": "stdout",
     "output_type": "stream",
     "text": [
      "Height:34\n",
      "breadth:32\n",
      "Area of Triangle: 544.0\n",
      "Height1:2\n",
      "Height2:4\n",
      "breadth:4\n",
      "Perimeter of Triangle: 10\n"
     ]
    }
   ],
   "source": [
    "triangle.triangle()"
   ]
  },
  {
   "cell_type": "code",
   "execution_count": null,
   "metadata": {},
   "outputs": [],
   "source": []
  }
 ],
 "metadata": {
  "kernelspec": {
   "display_name": "Python 3",
   "language": "python",
   "name": "python3"
  },
  "language_info": {
   "codemirror_mode": {
    "name": "ipython",
    "version": 3
   },
   "file_extension": ".py",
   "mimetype": "text/x-python",
   "name": "python",
   "nbconvert_exporter": "python",
   "pygments_lexer": "ipython3",
   "version": "3.7.4"
  }
 },
 "nbformat": 4,
 "nbformat_minor": 2
}
